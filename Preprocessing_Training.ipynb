{
  "nbformat": 4,
  "nbformat_minor": 0,
  "metadata": {
    "colab": {
      "name": "Preprocessing-Training.ipynb",
      "provenance": [],
      "collapsed_sections": []
    },
    "kernelspec": {
      "name": "python3",
      "display_name": "Python 3"
    },
    "language_info": {
      "name": "python"
    }
  },
  "cells": [
    {
      "cell_type": "code",
      "metadata": {
        "id": "pabEdQ0Reqk_",
        "colab": {
          "base_uri": "https://localhost:8080/"
        },
        "outputId": "3091c60f-ca79-43f1-c192-a6f77a170c0a"
      },
      "source": [
        "from google.colab import drive\n",
        "drive.mount('/content/drive')"
      ],
      "execution_count": null,
      "outputs": [
        {
          "output_type": "stream",
          "name": "stdout",
          "text": [
            "Mounted at /content/drive\n"
          ]
        }
      ]
    },
    {
      "cell_type": "code",
      "metadata": {
        "colab": {
          "base_uri": "https://localhost:8080/"
        },
        "id": "8NJ1ZoSD0pPG",
        "outputId": "a13957b6-a763-4833-f78e-4c35236494b4"
      },
      "source": [
        "from google.colab import drive\n",
        "drive.mount('/content/gdrive')"
      ],
      "execution_count": null,
      "outputs": [
        {
          "output_type": "stream",
          "name": "stdout",
          "text": [
            "Drive already mounted at /content/gdrive; to attempt to forcibly remount, call drive.mount(\"/content/gdrive\", force_remount=True).\n"
          ]
        }
      ]
    },
    {
      "cell_type": "code",
      "metadata": {
        "colab": {
          "base_uri": "https://localhost:8080/"
        },
        "id": "JECyFf5V6dib",
        "outputId": "90658d59-b4e4-4a59-dd49-07c7a74b9add"
      },
      "source": [
        "!unzip /content/drive/MyDrive/Trendyol.zip"
      ],
      "execution_count": null,
      "outputs": [
        {
          "output_type": "stream",
          "name": "stdout",
          "text": [
            "Archive:  /content/drive/MyDrive/Trendyol.zip\n",
            "  inflating: supplier_return.csv     \n",
            "  inflating: test_data.csv           \n",
            "  inflating: transactions.csv        \n",
            "  inflating: user_demographics.csv   \n",
            "  inflating: products.csv            \n",
            "  inflating: qa.csv                  \n",
            "  inflating: reviews.csv             \n",
            "  inflating: supplier_defective_return.csv  \n",
            "  inflating: supplier_disputed_return.csv  \n"
          ]
        }
      ]
    },
    {
      "cell_type": "code",
      "metadata": {
        "id": "_iEZXeEG8CNs"
      },
      "source": [
        "import numpy as np\n",
        "import pandas as pd"
      ],
      "execution_count": null,
      "outputs": []
    },
    {
      "cell_type": "code",
      "metadata": {
        "id": "hpXWJJK_6mhK",
        "colab": {
          "base_uri": "https://localhost:8080/"
        },
        "outputId": "2974cf93-a498-4b61-cdb3-17f5a681c37c"
      },
      "source": [
        "products = pd.read_csv(r\"products.csv\")\n",
        "qa = pd.read_csv(r\"qa.csv\")\n",
        "reviews = pd.read_csv(r\"reviews.csv\")\n",
        "supplier_defective_return = pd.read_csv(r\"supplier_defective_return.csv\")\n",
        "supplier_disputed_return = pd.read_csv(r\"supplier_disputed_return.csv\")\n",
        "supplier_return = pd.read_csv(r\"supplier_return.csv\")\n",
        "test_data = pd.read_csv(r\"test_data.csv\")\n",
        "transactions = pd.read_csv(r\"transactions.csv\")\n",
        "user_demographics = pd.read_csv(r\"user_demographics.csv\")"
      ],
      "execution_count": null,
      "outputs": [
        {
          "output_type": "stream",
          "name": "stderr",
          "text": [
            "/usr/local/lib/python3.7/dist-packages/IPython/core/interactiveshell.py:2718: DtypeWarning: Columns (1) have mixed types.Specify dtype option on import or set low_memory=False.\n",
            "  interactivity=interactivity, compiler=compiler, result=result)\n"
          ]
        }
      ]
    },
    {
      "cell_type": "code",
      "metadata": {
        "id": "z13VEMJ-7_Zc"
      },
      "source": [
        "left_merged_reversed = pd.merge(transactions,products,how=\"left\",on=[\"product_variant_id\", \"product_content_id\"])\n",
        "reviews = reviews.groupby([\"product_content_id\", \"supplier_id\"])[\"rate\"].mean().to_frame()\n",
        "merge_review = pd.merge(left_merged_reversed,reviews,how=\"left\",on=[\"product_content_id\", \"supplier_id\"])\n",
        "user_id_gender = user_demographics.drop([\"birth_date\", \"membership_date\"], axis=1)\n",
        "merge_demographics = pd.merge(merge_review,user_id_gender,how=\"left\",on=\"user_id\")\n"
      ],
      "execution_count": null,
      "outputs": []
    },
    {
      "cell_type": "code",
      "metadata": {
        "id": "XOL0DP6Q_ijy"
      },
      "source": [
        "del transactions\n",
        "del reviews\n",
        "del user_demographics\n",
        "del products\n",
        "del user_id_gender\n",
        "del left_merged_reversed\n",
        "del merge_review\n"
      ],
      "execution_count": null,
      "outputs": []
    },
    {
      "cell_type": "code",
      "metadata": {
        "id": "KHfe1Yyk-H1K"
      },
      "source": [
        "merge_return = pd.merge(merge_demographics,supplier_return,how=\"left\",on = \"supplier_id\") "
      ],
      "execution_count": null,
      "outputs": []
    },
    {
      "cell_type": "code",
      "metadata": {
        "id": "_dP3kLVe-lCP"
      },
      "source": [
        "supplier_defective_return = supplier_defective_return.rename(columns = {\"returnRate\":\"defective_returnRate\"})\n",
        "merge_defective_return = pd.merge(merge_return,supplier_defective_return,how=\"left\",on = \"supplier_id\")"
      ],
      "execution_count": null,
      "outputs": []
    },
    {
      "cell_type": "code",
      "metadata": {
        "id": "A518GfsdADAu"
      },
      "source": [
        "del supplier_disputed_return[\"unresolved_claim\"]\n",
        "del supplier_disputed_return[\"unresolved_accepted_claim\"]\n",
        "del supplier_defective_return\n",
        "del merge_return"
      ],
      "execution_count": null,
      "outputs": []
    },
    {
      "cell_type": "markdown",
      "metadata": {
        "id": "h1dJg6KkHp0C"
      },
      "source": [
        ""
      ]
    },
    {
      "cell_type": "code",
      "metadata": {
        "id": "21z1DGLDAIdk"
      },
      "source": [
        "merge_disputed_return = pd.merge(merge_defective_return,supplier_disputed_return,how=\"left\",on = \"supplier_id\")"
      ],
      "execution_count": null,
      "outputs": []
    },
    {
      "cell_type": "code",
      "metadata": {
        "id": "0YoaUf6dAR_0",
        "colab": {
          "base_uri": "https://localhost:8080/",
          "height": 330
        },
        "outputId": "45fc1fe3-5643-46bd-9a62-52957da3bcc6"
      },
      "source": [
        "df = merge_disputed_return \n",
        "df.head()"
      ],
      "execution_count": null,
      "outputs": [
        {
          "output_type": "execute_result",
          "data": {
            "text/html": [
              "<div>\n",
              "<style scoped>\n",
              "    .dataframe tbody tr th:only-of-type {\n",
              "        vertical-align: middle;\n",
              "    }\n",
              "\n",
              "    .dataframe tbody tr th {\n",
              "        vertical-align: top;\n",
              "    }\n",
              "\n",
              "    .dataframe thead th {\n",
              "        text-align: right;\n",
              "    }\n",
              "</style>\n",
              "<table border=\"1\" class=\"dataframe\">\n",
              "  <thead>\n",
              "    <tr style=\"text-align: right;\">\n",
              "      <th></th>\n",
              "      <th>order_date</th>\n",
              "      <th>user_id</th>\n",
              "      <th>is_elite_user</th>\n",
              "      <th>supplier_id</th>\n",
              "      <th>order_line_item_id</th>\n",
              "      <th>order_parent_id</th>\n",
              "      <th>product_content_id</th>\n",
              "      <th>product_variant_id</th>\n",
              "      <th>original_price</th>\n",
              "      <th>discounted_price</th>\n",
              "      <th>ship_cost</th>\n",
              "      <th>coupon_id</th>\n",
              "      <th>coupon_discount</th>\n",
              "      <th>promotion_name</th>\n",
              "      <th>promotion_award_value</th>\n",
              "      <th>is_wallet_trx</th>\n",
              "      <th>is_saved_card_trx</th>\n",
              "      <th>is_returned</th>\n",
              "      <th>product_id</th>\n",
              "      <th>product_name</th>\n",
              "      <th>brand_id</th>\n",
              "      <th>brand_name</th>\n",
              "      <th>gender_id</th>\n",
              "      <th>gender_name</th>\n",
              "      <th>category_id</th>\n",
              "      <th>category_name</th>\n",
              "      <th>color_id</th>\n",
              "      <th>color_name</th>\n",
              "      <th>supplier_color_name</th>\n",
              "      <th>attributet_name</th>\n",
              "      <th>attribute_value</th>\n",
              "      <th>rate</th>\n",
              "      <th>gender</th>\n",
              "      <th>returnRate</th>\n",
              "      <th>defective_returnRate</th>\n",
              "      <th>total_claim</th>\n",
              "      <th>unresolvedclaim_percentage</th>\n",
              "    </tr>\n",
              "  </thead>\n",
              "  <tbody>\n",
              "    <tr>\n",
              "      <th>0</th>\n",
              "      <td>2021-05-01 00:00:01.761000+00:00</td>\n",
              "      <td>3941815</td>\n",
              "      <td>0</td>\n",
              "      <td>4662</td>\n",
              "      <td>901280147</td>\n",
              "      <td>595758968</td>\n",
              "      <td>95503167</td>\n",
              "      <td>159147197</td>\n",
              "      <td>79.90</td>\n",
              "      <td>51.94</td>\n",
              "      <td>8.88</td>\n",
              "      <td>NaN</td>\n",
              "      <td>0.0</td>\n",
              "      <td>Sepette %35 İndirim</td>\n",
              "      <td>35.0</td>\n",
              "      <td>0</td>\n",
              "      <td>True</td>\n",
              "      <td>0.0</td>\n",
              "      <td>82687030</td>\n",
              "      <td>Manage Erkek T-shirt Beyaz St11te151</td>\n",
              "      <td>682</td>\n",
              "      <td>Slazenger</td>\n",
              "      <td>4294.0</td>\n",
              "      <td>Erkek</td>\n",
              "      <td>604</td>\n",
              "      <td>T-Shirt</td>\n",
              "      <td>6998.0</td>\n",
              "      <td>Beyaz</td>\n",
              "      <td>Beyaz</td>\n",
              "      <td>BEDEN</td>\n",
              "      <td>XL</td>\n",
              "      <td>3.25000</td>\n",
              "      <td>Bayan</td>\n",
              "      <td>0.098178</td>\n",
              "      <td>0.003045</td>\n",
              "      <td>16357.0</td>\n",
              "      <td>0.328947</td>\n",
              "    </tr>\n",
              "    <tr>\n",
              "      <th>1</th>\n",
              "      <td>2021-05-01 00:00:01.761000+00:00</td>\n",
              "      <td>3941815</td>\n",
              "      <td>0</td>\n",
              "      <td>163</td>\n",
              "      <td>901280149</td>\n",
              "      <td>595758968</td>\n",
              "      <td>36313798</td>\n",
              "      <td>64622938</td>\n",
              "      <td>129.95</td>\n",
              "      <td>59.97</td>\n",
              "      <td>9.40</td>\n",
              "      <td>NaN</td>\n",
              "      <td>0.0</td>\n",
              "      <td>Sepette %40 İndirim</td>\n",
              "      <td>40.0</td>\n",
              "      <td>0</td>\n",
              "      <td>True</td>\n",
              "      <td>0.0</td>\n",
              "      <td>30551316</td>\n",
              "      <td>Erkek Koyu Yeşil Slim Fit V Yaka T-Shirt</td>\n",
              "      <td>121</td>\n",
              "      <td>Pierre Cardin</td>\n",
              "      <td>4294.0</td>\n",
              "      <td>Erkek</td>\n",
              "      <td>604</td>\n",
              "      <td>T-Shirt</td>\n",
              "      <td>7012.0</td>\n",
              "      <td>Yeşil</td>\n",
              "      <td>VR079</td>\n",
              "      <td>BEDEN</td>\n",
              "      <td>XL</td>\n",
              "      <td>4.47619</td>\n",
              "      <td>Bayan</td>\n",
              "      <td>0.050737</td>\n",
              "      <td>0.000545</td>\n",
              "      <td>46699.0</td>\n",
              "      <td>0.000000</td>\n",
              "    </tr>\n",
              "    <tr>\n",
              "      <th>2</th>\n",
              "      <td>2021-05-01 00:00:01.761000+00:00</td>\n",
              "      <td>3941815</td>\n",
              "      <td>0</td>\n",
              "      <td>157306</td>\n",
              "      <td>901280145</td>\n",
              "      <td>595758968</td>\n",
              "      <td>36888320</td>\n",
              "      <td>65612791</td>\n",
              "      <td>59.99</td>\n",
              "      <td>49.99</td>\n",
              "      <td>10.67</td>\n",
              "      <td>NaN</td>\n",
              "      <td>0.0</td>\n",
              "      <td>NaN</td>\n",
              "      <td>NaN</td>\n",
              "      <td>0</td>\n",
              "      <td>True</td>\n",
              "      <td>0.0</td>\n",
              "      <td>30961805</td>\n",
              "      <td>Erkek MIGAYA 012208415760890000</td>\n",
              "      <td>381</td>\n",
              "      <td>Ltb</td>\n",
              "      <td>4294.0</td>\n",
              "      <td>Erkek</td>\n",
              "      <td>2949</td>\n",
              "      <td>Polo Yaka T-shirt</td>\n",
              "      <td>6999.0</td>\n",
              "      <td>Gri</td>\n",
              "      <td>GRİ_217</td>\n",
              "      <td>BEDEN</td>\n",
              "      <td>XL</td>\n",
              "      <td>NaN</td>\n",
              "      <td>Bayan</td>\n",
              "      <td>0.093355</td>\n",
              "      <td>0.000744</td>\n",
              "      <td>902.0</td>\n",
              "      <td>0.777778</td>\n",
              "    </tr>\n",
              "    <tr>\n",
              "      <th>3</th>\n",
              "      <td>2021-05-01 00:00:01.761000+00:00</td>\n",
              "      <td>3941815</td>\n",
              "      <td>0</td>\n",
              "      <td>163856</td>\n",
              "      <td>901280144</td>\n",
              "      <td>595758968</td>\n",
              "      <td>36888399</td>\n",
              "      <td>65613254</td>\n",
              "      <td>49.90</td>\n",
              "      <td>49.90</td>\n",
              "      <td>10.67</td>\n",
              "      <td>NaN</td>\n",
              "      <td>0.0</td>\n",
              "      <td>NaN</td>\n",
              "      <td>NaN</td>\n",
              "      <td>0</td>\n",
              "      <td>True</td>\n",
              "      <td>0.0</td>\n",
              "      <td>30961856</td>\n",
              "      <td>Erkek MICAFO 012208418960890000</td>\n",
              "      <td>381</td>\n",
              "      <td>Ltb</td>\n",
              "      <td>4294.0</td>\n",
              "      <td>Erkek</td>\n",
              "      <td>2949</td>\n",
              "      <td>Polo Yaka T-shirt</td>\n",
              "      <td>7006.0</td>\n",
              "      <td>Mor</td>\n",
              "      <td>MOR_11525</td>\n",
              "      <td>BEDEN</td>\n",
              "      <td>XL</td>\n",
              "      <td>NaN</td>\n",
              "      <td>Bayan</td>\n",
              "      <td>0.108296</td>\n",
              "      <td>0.000633</td>\n",
              "      <td>227.0</td>\n",
              "      <td>0.200000</td>\n",
              "    </tr>\n",
              "    <tr>\n",
              "      <th>4</th>\n",
              "      <td>2021-05-01 00:00:02.742000+00:00</td>\n",
              "      <td>15996105</td>\n",
              "      <td>1</td>\n",
              "      <td>968</td>\n",
              "      <td>901279297</td>\n",
              "      <td>595758987</td>\n",
              "      <td>96930601</td>\n",
              "      <td>161408176</td>\n",
              "      <td>89.99</td>\n",
              "      <td>71.99</td>\n",
              "      <td>9.40</td>\n",
              "      <td>NaN</td>\n",
              "      <td>0.0</td>\n",
              "      <td>Sepette %20 İndirim</td>\n",
              "      <td>20.0</td>\n",
              "      <td>0</td>\n",
              "      <td>False</td>\n",
              "      <td>0.0</td>\n",
              "      <td>82735052</td>\n",
              "      <td>Mavi Leopar Desenli Dokuma Elbise THMSS21EL3385</td>\n",
              "      <td>40</td>\n",
              "      <td>TRENDYOLMİLLA</td>\n",
              "      <td>4295.0</td>\n",
              "      <td>Kadın / Kız</td>\n",
              "      <td>1182</td>\n",
              "      <td>Elbise</td>\n",
              "      <td>7004.0</td>\n",
              "      <td>Mavi</td>\n",
              "      <td>Mavi</td>\n",
              "      <td>BEDEN</td>\n",
              "      <td>40</td>\n",
              "      <td>4.50000</td>\n",
              "      <td>Bayan</td>\n",
              "      <td>0.127110</td>\n",
              "      <td>0.002828</td>\n",
              "      <td>3269293.0</td>\n",
              "      <td>0.000000</td>\n",
              "    </tr>\n",
              "  </tbody>\n",
              "</table>\n",
              "</div>"
            ],
            "text/plain": [
              "                         order_date  ...  unresolvedclaim_percentage\n",
              "0  2021-05-01 00:00:01.761000+00:00  ...                    0.328947\n",
              "1  2021-05-01 00:00:01.761000+00:00  ...                    0.000000\n",
              "2  2021-05-01 00:00:01.761000+00:00  ...                    0.777778\n",
              "3  2021-05-01 00:00:01.761000+00:00  ...                    0.200000\n",
              "4  2021-05-01 00:00:02.742000+00:00  ...                    0.000000\n",
              "\n",
              "[5 rows x 37 columns]"
            ]
          },
          "metadata": {},
          "execution_count": 13
        }
      ]
    },
    {
      "cell_type": "code",
      "metadata": {
        "id": "eOQcRP3tAaEu"
      },
      "source": [
        "del df[\"order_date\"]\n",
        "del df[\"user_id\"]\n",
        "del df[\"supplier_id\"]\n",
        "del df[\"order_line_item_id\"]\n",
        "del df[\"order_parent_id\"]\n",
        "del df[\"product_content_id\"]\n",
        "del df[\"product_variant_id\"]\n",
        "del df[\"coupon_id\"]\n",
        "del df[\"promotion_name\"]\n",
        "del df[\"product_id\"]\n",
        "del df[\"product_name\"]\n",
        "del df[\"brand_id\"]\n",
        "del df[\"brand_name\"] # Sonra bakılcak.\n",
        "del df[\"gender_id\"]\n",
        "del df[\"category_id\"]\n",
        "del df[\"category_name\"] # Sonra bakılcak.\n",
        "del df[\"color_id\"]\n",
        "del df[\"supplier_color_name\"] \n",
        "del df[\"attributet_name\"] # Sonra Bakılcak.\n",
        "del df[\"attribute_value\"]"
      ],
      "execution_count": null,
      "outputs": []
    },
    {
      "cell_type": "code",
      "metadata": {
        "id": "i585Rh9ucDw-"
      },
      "source": [
        "df = df[:3000000]"
      ],
      "execution_count": null,
      "outputs": []
    },
    {
      "cell_type": "code",
      "metadata": {
        "id": "1Hgspr4pd3Wu"
      },
      "source": [
        "df.to_csv(\"df_12m.csv\")"
      ],
      "execution_count": null,
      "outputs": []
    },
    {
      "cell_type": "code",
      "metadata": {
        "id": "SuJJQ-MiKwky"
      },
      "source": [
        "df = df[:3000000]\n",
        "df.shape"
      ],
      "execution_count": null,
      "outputs": []
    },
    {
      "cell_type": "code",
      "metadata": {
        "id": "mdfxTKRWBb-p"
      },
      "source": [
        "is_returned = df[\"is_returned\"]\n",
        "del df[\"is_returned\"]"
      ],
      "execution_count": null,
      "outputs": []
    },
    {
      "cell_type": "code",
      "metadata": {
        "id": "xU447cPACsWP"
      },
      "source": [
        "df[\"ship_cost\"] = df[\"ship_cost\"].fillna(0)\n",
        "\n",
        "df[\"promotion_award_value\"] = df[\"promotion_award_value\"].fillna(0)\n",
        "\n",
        "df[\"rate\"] = df[\"rate\"].fillna(0)\n",
        "\n",
        "df[\"color_name\"] = df[\"color_name\"].fillna(\"yok\")\n",
        "\n",
        "df[\"unresolvedclaim_percentage\"] = df[\"unresolvedclaim_percentage\"].fillna(0)\n",
        "\n",
        "df[\"total_claim\"] = df[\"total_claim\"].fillna(0)\n",
        "\n",
        "df[\"defective_returnRate\"] = df[\"defective_returnRate\"].fillna(0)\n",
        "\n",
        "df[\"returnRate\"] = df[\"returnRate\"].fillna(0)\n"
      ],
      "execution_count": null,
      "outputs": []
    },
    {
      "cell_type": "code",
      "metadata": {
        "id": "-GKczDV1Bmtp"
      },
      "source": [
        "df.isnull().sum().sort_values(ascending = False)"
      ],
      "execution_count": null,
      "outputs": []
    },
    {
      "cell_type": "code",
      "metadata": {
        "id": "ZFn-sHGME_DR"
      },
      "source": [
        "pip install category_encoders"
      ],
      "execution_count": null,
      "outputs": []
    },
    {
      "cell_type": "code",
      "metadata": {
        "id": "LQ1y_FxbBtRy"
      },
      "source": [
        "import category_encoders as ce\n",
        "ohe = ce.OneHotEncoder(handle_unknown='value', use_cat_names=True)\n",
        "\n",
        "OH_cols_train = pd.DataFrame(ohe.fit_transform(df[[\"gender_name\", \"color_name\", \"gender\"]])) #One-Hot encoding applied to train dataset\n",
        "OH_cols_train.index = df.index\n",
        "df = df.drop(columns = [\"gender_name\", \"color_name\", \"gender\"]) #Dropping categorical columns\n",
        "df = pd.concat([df,OH_cols_train],axis = 1) # Assembling df with encoded columns"
      ],
      "execution_count": null,
      "outputs": []
    },
    {
      "cell_type": "code",
      "metadata": {
        "id": "9PkCGYj6LGfG"
      },
      "source": [
        "df[\"is_saved_card_trx\"] = df[\"is_saved_card_trx\"].astype(int)\n"
      ],
      "execution_count": null,
      "outputs": []
    },
    {
      "cell_type": "code",
      "metadata": {
        "id": "UoTds3c8a-EU"
      },
      "source": [
        ""
      ],
      "execution_count": null,
      "outputs": []
    },
    {
      "cell_type": "code",
      "metadata": {
        "id": "717RMHCXLq4E"
      },
      "source": [
        "from sklearn.model_selection import train_test_split\n",
        "\n",
        "X_train, X_test, y_train, y_test = train_test_split(df, is_returned, test_size = 0.4, random_state = 31)"
      ],
      "execution_count": null,
      "outputs": []
    },
    {
      "cell_type": "code",
      "metadata": {
        "id": "hkoLX-2rBIJ1"
      },
      "source": [
        "print(len(is_returned[is_returned == 0]),len(is_returned[is_returned == 1]))"
      ],
      "execution_count": null,
      "outputs": []
    },
    {
      "cell_type": "code",
      "metadata": {
        "id": "GHHFtZ3WLwX5"
      },
      "source": [
        "import xgboost as xgb\n",
        "\n",
        "xgb_cl = xgb.XGBClassifier()\n",
        "xgb_cl.fit(X_train, y_train)"
      ],
      "execution_count": null,
      "outputs": []
    },
    {
      "cell_type": "code",
      "metadata": {
        "id": "AtpNKCU5GKGW"
      },
      "source": [
        "y_pred = xgb_cl.predict(X_test)"
      ],
      "execution_count": null,
      "outputs": []
    },
    {
      "cell_type": "code",
      "metadata": {
        "id": "ewmI_wBlL4g6"
      },
      "source": [
        "from sklearn.metrics import f1_score\n",
        "f1_score(y_test, y_pred, average=\"macro\")"
      ],
      "execution_count": null,
      "outputs": []
    },
    {
      "cell_type": "code",
      "metadata": {
        "id": "qX9pjA9dGZ4J"
      },
      "source": [
        "from sklearn.metrics import confusion_matrix\n",
        "cm = confusion_matrix(y_test, y_pred)\n",
        "cm"
      ],
      "execution_count": null,
      "outputs": []
    },
    {
      "cell_type": "code",
      "metadata": {
        "id": "lwWl2U_WRMF4"
      },
      "source": [
        "import pickle\n",
        "with open(\"XGB_2.pk1\", 'wb') as file:  \n",
        "    pickle.dump(xgb_cl, file)"
      ],
      "execution_count": null,
      "outputs": []
    },
    {
      "cell_type": "code",
      "metadata": {
        "id": "8CxO2Slx-iBV"
      },
      "source": [
        ""
      ],
      "execution_count": null,
      "outputs": []
    }
  ]
}