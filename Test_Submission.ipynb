{
  "nbformat": 4,
  "nbformat_minor": 0,
  "metadata": {
    "colab": {
      "name": "Test_Submission.ipynb",
      "provenance": []
    },
    "kernelspec": {
      "name": "python3",
      "display_name": "Python 3"
    },
    "language_info": {
      "name": "python"
    }
  },
  "cells": [
    {
      "cell_type": "code",
      "metadata": {
        "id": "b2P0AtRNQ5Hu"
      },
      "source": [
        "import numpy as np\n",
        "import pandas as pd\n",
        "from google.colab import drive\n",
        "drive.mount('/content/gdrive')"
      ],
      "execution_count": null,
      "outputs": []
    },
    {
      "cell_type": "code",
      "metadata": {
        "colab": {
          "base_uri": "https://localhost:8080/"
        },
        "id": "X8zfFrEuRy9V",
        "outputId": "8c428336-c466-4d2c-fbf6-0dcd491a81d6"
      },
      "source": [
        "!unzip /content/gdrive/MyDrive/Trendyol.zip"
      ],
      "execution_count": null,
      "outputs": [
        {
          "output_type": "stream",
          "name": "stdout",
          "text": [
            "Archive:  /content/gdrive/MyDrive/Trendyol.zip\n",
            "  inflating: supplier_return.csv     \n",
            "  inflating: test_data.csv           \n",
            "  inflating: transactions.csv        \n",
            "  inflating: user_demographics.csv   \n",
            "  inflating: products.csv            \n",
            "  inflating: qa.csv                  \n",
            "  inflating: reviews.csv             \n",
            "  inflating: supplier_defective_return.csv  \n",
            "  inflating: supplier_disputed_return.csv  \n"
          ]
        }
      ]
    },
    {
      "cell_type": "code",
      "metadata": {
        "colab": {
          "base_uri": "https://localhost:8080/"
        },
        "id": "_j_9JW0hSnXL",
        "outputId": "fa77c89f-54ab-4c2e-ce9f-786fdece33d9"
      },
      "source": [
        "products = pd.read_csv(r\"products.csv\")\n",
        "qa = pd.read_csv(r\"qa.csv\")\n",
        "reviews = pd.read_csv(r\"reviews.csv\")\n",
        "supplier_defective_return = pd.read_csv(r\"supplier_defective_return.csv\")\n",
        "supplier_disputed_return = pd.read_csv(r\"supplier_disputed_return.csv\")\n",
        "supplier_return = pd.read_csv(r\"supplier_return.csv\")\n",
        "test_data = pd.read_csv(r\"test_data.csv\")\n",
        "transactions = pd.read_csv(r\"transactions.csv\")\n",
        "user_demographics = pd.read_csv(r\"user_demographics.csv\")"
      ],
      "execution_count": null,
      "outputs": [
        {
          "output_type": "stream",
          "name": "stderr",
          "text": [
            "/usr/local/lib/python3.7/dist-packages/IPython/core/interactiveshell.py:2718: DtypeWarning: Columns (1) have mixed types.Specify dtype option on import or set low_memory=False.\n",
            "  interactivity=interactivity, compiler=compiler, result=result)\n"
          ]
        }
      ]
    },
    {
      "cell_type": "code",
      "metadata": {
        "id": "wJ64ogEUrOGN"
      },
      "source": [
        "transactions[[\"product_content_id\",\"user_id\",\"order_parent_id\"]] = transactions[[\"product_content_id\",\"user_id\",\"order_parent_id\"]].drop_duplicates()"
      ],
      "execution_count": null,
      "outputs": []
    },
    {
      "cell_type": "code",
      "metadata": {
        "id": "7uUxi3WxS-8y"
      },
      "source": [
        "new = test_data[\"id\"].str.split(\"|\", n = 2, expand = True)"
      ],
      "execution_count": null,
      "outputs": []
    },
    {
      "cell_type": "code",
      "metadata": {
        "id": "p5jSl70zTrdO"
      },
      "source": [
        "test_data[\"user_id\"]= new[0]\n",
        "test_data[\"product_content_id\"]= new[1]\n",
        "test_data[\"order_parent_id\"]= new[2]\n",
        "test_data = test_data.drop([\"id\"],axis=1)\n"
      ],
      "execution_count": null,
      "outputs": []
    },
    {
      "cell_type": "code",
      "metadata": {
        "id": "iQ9jdi9gsJEo"
      },
      "source": [
        "test_data[\"user_id\"] = test_data[\"user_id\"].astype(int)\n",
        "test_data[\"product_content_id\"] = test_data[\"product_content_id\"].astype(int)\n",
        "test_data[\"order_parent_id\"] = test_data[\"order_parent_id\"].astype(int)"
      ],
      "execution_count": null,
      "outputs": []
    },
    {
      "cell_type": "code",
      "metadata": {
        "id": "HjuR-pRkUOdP",
        "colab": {
          "base_uri": "https://localhost:8080/"
        },
        "outputId": "9ae598db-ce61-4134-c7d4-e5ccd59f4fa4"
      },
      "source": [
        "test_transactions = pd.merge(test_data,transactions,how=\"left\",on=[\"product_content_id\",\"user_id\",\"order_parent_id\"])\n",
        "test_transactions.shape\n",
        "\n"
      ],
      "execution_count": null,
      "outputs": [
        {
          "output_type": "execute_result",
          "data": {
            "text/plain": [
              "(7471, 19)"
            ]
          },
          "metadata": {},
          "execution_count": 8
        }
      ]
    },
    {
      "cell_type": "code",
      "metadata": {
        "colab": {
          "base_uri": "https://localhost:8080/",
          "height": 184
        },
        "id": "ISy52qIOe8kk",
        "outputId": "af3e8ca4-b4c2-44e7-fc98-404de9d6e329"
      },
      "source": [
        "test_transactions[test_transactions[\"order_parent_id\"]==725291348]"
      ],
      "execution_count": null,
      "outputs": [
        {
          "output_type": "execute_result",
          "data": {
            "text/html": [
              "<div>\n",
              "<style scoped>\n",
              "    .dataframe tbody tr th:only-of-type {\n",
              "        vertical-align: middle;\n",
              "    }\n",
              "\n",
              "    .dataframe tbody tr th {\n",
              "        vertical-align: top;\n",
              "    }\n",
              "\n",
              "    .dataframe thead th {\n",
              "        text-align: right;\n",
              "    }\n",
              "</style>\n",
              "<table border=\"1\" class=\"dataframe\">\n",
              "  <thead>\n",
              "    <tr style=\"text-align: right;\">\n",
              "      <th></th>\n",
              "      <th>expected</th>\n",
              "      <th>user_id</th>\n",
              "      <th>product_content_id</th>\n",
              "      <th>order_parent_id</th>\n",
              "      <th>order_date</th>\n",
              "      <th>is_elite_user</th>\n",
              "      <th>supplier_id</th>\n",
              "      <th>order_line_item_id</th>\n",
              "      <th>product_variant_id</th>\n",
              "      <th>original_price</th>\n",
              "      <th>discounted_price</th>\n",
              "      <th>ship_cost</th>\n",
              "      <th>coupon_id</th>\n",
              "      <th>coupon_discount</th>\n",
              "      <th>promotion_name</th>\n",
              "      <th>promotion_award_value</th>\n",
              "      <th>is_wallet_trx</th>\n",
              "      <th>is_saved_card_trx</th>\n",
              "      <th>is_returned</th>\n",
              "    </tr>\n",
              "  </thead>\n",
              "  <tbody>\n",
              "    <tr>\n",
              "      <th>7468</th>\n",
              "      <td>NaN</td>\n",
              "      <td>71115350</td>\n",
              "      <td>94438742</td>\n",
              "      <td>725291348</td>\n",
              "      <td>2021-08-03 15:51:18.124000+00:00</td>\n",
              "      <td>0</td>\n",
              "      <td>225138</td>\n",
              "      <td>1113459138</td>\n",
              "      <td>200752396</td>\n",
              "      <td>229.90</td>\n",
              "      <td>143.92</td>\n",
              "      <td>11.330000</td>\n",
              "      <td>NaN</td>\n",
              "      <td>0.0</td>\n",
              "      <td>NaN</td>\n",
              "      <td>NaN</td>\n",
              "      <td>0</td>\n",
              "      <td>True</td>\n",
              "      <td>NaN</td>\n",
              "    </tr>\n",
              "    <tr>\n",
              "      <th>7469</th>\n",
              "      <td>NaN</td>\n",
              "      <td>71115350</td>\n",
              "      <td>100017676</td>\n",
              "      <td>725291348</td>\n",
              "      <td>2021-08-03 15:51:18.124000+00:00</td>\n",
              "      <td>0</td>\n",
              "      <td>968</td>\n",
              "      <td>1113459117</td>\n",
              "      <td>166171623</td>\n",
              "      <td>39.99</td>\n",
              "      <td>27.99</td>\n",
              "      <td>1.342857</td>\n",
              "      <td>NaN</td>\n",
              "      <td>0.0</td>\n",
              "      <td>Trendyolmilla&amp;Trendyol Man&amp;Trendyol Modest-Kaç...</td>\n",
              "      <td>30.0</td>\n",
              "      <td>0</td>\n",
              "      <td>True</td>\n",
              "      <td>NaN</td>\n",
              "    </tr>\n",
              "  </tbody>\n",
              "</table>\n",
              "</div>"
            ],
            "text/plain": [
              "      expected   user_id  ...  is_saved_card_trx  is_returned\n",
              "7468       NaN  71115350  ...               True          NaN\n",
              "7469       NaN  71115350  ...               True          NaN\n",
              "\n",
              "[2 rows x 19 columns]"
            ]
          },
          "metadata": {},
          "execution_count": 9
        }
      ]
    },
    {
      "cell_type": "code",
      "metadata": {
        "id": "JOybv-9Qw1qn"
      },
      "source": [
        "test_products = pd.merge(test_transactions,products,how=\"left\",on=[\"product_variant_id\", \"product_content_id\"])"
      ],
      "execution_count": null,
      "outputs": []
    },
    {
      "cell_type": "code",
      "metadata": {
        "id": "XmTxcpimrfG6"
      },
      "source": [
        "reviews = reviews.groupby([\"product_content_id\", \"supplier_id\"])[\"rate\"].mean().to_frame()\n",
        "test_review = pd.merge(test_products,reviews,how=\"left\",on=[\"product_content_id\", \"supplier_id\"])\n",
        "del reviews\n"
      ],
      "execution_count": null,
      "outputs": []
    },
    {
      "cell_type": "code",
      "metadata": {
        "id": "3CEw9vXTr3Ua"
      },
      "source": [
        "user_id_gender = user_demographics.drop([\"birth_date\", \"membership_date\"], axis=1)\n",
        "test_demographics = pd.merge(test_review,user_id_gender,how=\"left\",on=\"user_id\")\n",
        "del user_id_gender\n",
        "del user_demographics\n"
      ],
      "execution_count": null,
      "outputs": []
    },
    {
      "cell_type": "code",
      "metadata": {
        "id": "yj-lAlkjr5im"
      },
      "source": [
        "test_return = pd.merge(test_demographics,supplier_return,how=\"left\",on = \"supplier_id\")\n",
        " "
      ],
      "execution_count": null,
      "outputs": []
    },
    {
      "cell_type": "code",
      "metadata": {
        "id": "gdVUcFzetFRV"
      },
      "source": [
        "supplier_defective_return = supplier_defective_return.rename(columns = {\"returnRate\":\"defective_returnRate\"})\n",
        "test_defective_return = pd.merge(test_return,supplier_defective_return,how=\"left\",on = \"supplier_id\")\n"
      ],
      "execution_count": null,
      "outputs": []
    },
    {
      "cell_type": "code",
      "metadata": {
        "id": "beBzuNwny67F"
      },
      "source": [
        "del supplier_disputed_return[\"unresolved_claim\"]\n",
        "del supplier_disputed_return[\"unresolved_accepted_claim\"]\n"
      ],
      "execution_count": null,
      "outputs": []
    },
    {
      "cell_type": "code",
      "metadata": {
        "id": "dTK5DFvbutuS"
      },
      "source": [
        "test_disputed_return = pd.merge(test_defective_return,supplier_disputed_return,how=\"left\",on = \"supplier_id\")\n"
      ],
      "execution_count": null,
      "outputs": []
    },
    {
      "cell_type": "code",
      "metadata": {
        "colab": {
          "base_uri": "https://localhost:8080/",
          "height": 417
        },
        "id": "aFdW7BTkvahu",
        "outputId": "4eebcead-fac2-4cda-aa10-eb00ad543fea"
      },
      "source": [
        "df = test_disputed_return \n",
        "df.head()\n"
      ],
      "execution_count": null,
      "outputs": [
        {
          "output_type": "execute_result",
          "data": {
            "text/html": [
              "<div>\n",
              "<style scoped>\n",
              "    .dataframe tbody tr th:only-of-type {\n",
              "        vertical-align: middle;\n",
              "    }\n",
              "\n",
              "    .dataframe tbody tr th {\n",
              "        vertical-align: top;\n",
              "    }\n",
              "\n",
              "    .dataframe thead th {\n",
              "        text-align: right;\n",
              "    }\n",
              "</style>\n",
              "<table border=\"1\" class=\"dataframe\">\n",
              "  <thead>\n",
              "    <tr style=\"text-align: right;\">\n",
              "      <th></th>\n",
              "      <th>expected</th>\n",
              "      <th>user_id</th>\n",
              "      <th>product_content_id</th>\n",
              "      <th>order_parent_id</th>\n",
              "      <th>order_date</th>\n",
              "      <th>is_elite_user</th>\n",
              "      <th>supplier_id</th>\n",
              "      <th>order_line_item_id</th>\n",
              "      <th>product_variant_id</th>\n",
              "      <th>original_price</th>\n",
              "      <th>discounted_price</th>\n",
              "      <th>ship_cost</th>\n",
              "      <th>coupon_id</th>\n",
              "      <th>coupon_discount</th>\n",
              "      <th>promotion_name</th>\n",
              "      <th>promotion_award_value</th>\n",
              "      <th>is_wallet_trx</th>\n",
              "      <th>is_saved_card_trx</th>\n",
              "      <th>is_returned</th>\n",
              "      <th>product_id</th>\n",
              "      <th>product_name</th>\n",
              "      <th>brand_id</th>\n",
              "      <th>brand_name</th>\n",
              "      <th>gender_id</th>\n",
              "      <th>gender_name</th>\n",
              "      <th>category_id</th>\n",
              "      <th>category_name</th>\n",
              "      <th>color_id</th>\n",
              "      <th>color_name</th>\n",
              "      <th>supplier_color_name</th>\n",
              "      <th>attributet_name</th>\n",
              "      <th>attribute_value</th>\n",
              "      <th>rate</th>\n",
              "      <th>gender</th>\n",
              "      <th>returnRate</th>\n",
              "      <th>defective_returnRate</th>\n",
              "      <th>total_claim</th>\n",
              "      <th>unresolvedclaim_percentage</th>\n",
              "    </tr>\n",
              "  </thead>\n",
              "  <tbody>\n",
              "    <tr>\n",
              "      <th>0</th>\n",
              "      <td>NaN</td>\n",
              "      <td>18115</td>\n",
              "      <td>87073974</td>\n",
              "      <td>726348863</td>\n",
              "      <td>2021-08-04 16:03:34.498000+00:00</td>\n",
              "      <td>1</td>\n",
              "      <td>968</td>\n",
              "      <td>1115248748</td>\n",
              "      <td>145716801</td>\n",
              "      <td>89.99</td>\n",
              "      <td>53.99</td>\n",
              "      <td>9.400000</td>\n",
              "      <td>NaN</td>\n",
              "      <td>0.0</td>\n",
              "      <td>NaN</td>\n",
              "      <td>NaN</td>\n",
              "      <td>1</td>\n",
              "      <td>False</td>\n",
              "      <td>NaN</td>\n",
              "      <td>31684775</td>\n",
              "      <td>Yeşil Yıldızlı Dokuma Pijama Takımı THMSS20PT0295</td>\n",
              "      <td>40</td>\n",
              "      <td>TRENDYOLMİLLA</td>\n",
              "      <td>4295.0</td>\n",
              "      <td>Kadın / Kız</td>\n",
              "      <td>563</td>\n",
              "      <td>Pijama Takımı</td>\n",
              "      <td>7012.0</td>\n",
              "      <td>Yeşil</td>\n",
              "      <td>Yeşil</td>\n",
              "      <td>BEDEN</td>\n",
              "      <td>38</td>\n",
              "      <td>4.486339</td>\n",
              "      <td>Bayan</td>\n",
              "      <td>0.127110</td>\n",
              "      <td>0.002828</td>\n",
              "      <td>3269293</td>\n",
              "      <td>0.000000</td>\n",
              "    </tr>\n",
              "    <tr>\n",
              "      <th>1</th>\n",
              "      <td>NaN</td>\n",
              "      <td>27588</td>\n",
              "      <td>118753298</td>\n",
              "      <td>723169934</td>\n",
              "      <td>2021-08-01 22:32:11.468000+00:00</td>\n",
              "      <td>0</td>\n",
              "      <td>968</td>\n",
              "      <td>1109728166</td>\n",
              "      <td>191196258</td>\n",
              "      <td>113.95</td>\n",
              "      <td>91.16</td>\n",
              "      <td>1.044444</td>\n",
              "      <td>NaN</td>\n",
              "      <td>0.0</td>\n",
              "      <td>NaN</td>\n",
              "      <td>NaN</td>\n",
              "      <td>0</td>\n",
              "      <td>True</td>\n",
              "      <td>NaN</td>\n",
              "      <td>94802386</td>\n",
              "      <td>Kadın Yeşil Kolsuz Keten Viskon Çan Elbise JH0...</td>\n",
              "      <td>8727</td>\n",
              "      <td>Happiness İst.</td>\n",
              "      <td>4295.0</td>\n",
              "      <td>Kadın / Kız</td>\n",
              "      <td>1182</td>\n",
              "      <td>Elbise</td>\n",
              "      <td>7012.0</td>\n",
              "      <td>Yeşil</td>\n",
              "      <td>Yeşil</td>\n",
              "      <td>BEDEN</td>\n",
              "      <td>36</td>\n",
              "      <td>4.310345</td>\n",
              "      <td>Bayan</td>\n",
              "      <td>0.127110</td>\n",
              "      <td>0.002828</td>\n",
              "      <td>3269293</td>\n",
              "      <td>0.000000</td>\n",
              "    </tr>\n",
              "    <tr>\n",
              "      <th>2</th>\n",
              "      <td>NaN</td>\n",
              "      <td>29165</td>\n",
              "      <td>35699988</td>\n",
              "      <td>724122443</td>\n",
              "      <td>2021-08-02 21:39:28.579000+00:00</td>\n",
              "      <td>1</td>\n",
              "      <td>1188</td>\n",
              "      <td>1111326869</td>\n",
              "      <td>63808285</td>\n",
              "      <td>119.99</td>\n",
              "      <td>83.99</td>\n",
              "      <td>8.880000</td>\n",
              "      <td>NaN</td>\n",
              "      <td>0.0</td>\n",
              "      <td>Defacto sepet  30 - Sepette %30 İndirim</td>\n",
              "      <td>30.0</td>\n",
              "      <td>0</td>\n",
              "      <td>False</td>\n",
              "      <td>NaN</td>\n",
              "      <td>29982007</td>\n",
              "      <td>Kız Çocuk Tül Detaylı Elbise</td>\n",
              "      <td>3268</td>\n",
              "      <td>DeFacto</td>\n",
              "      <td>4295.0</td>\n",
              "      <td>Kadın / Kız</td>\n",
              "      <td>1182</td>\n",
              "      <td>Elbise</td>\n",
              "      <td>6998.0</td>\n",
              "      <td>Beyaz</td>\n",
              "      <td>Beyaz-WT34</td>\n",
              "      <td>BEDEN</td>\n",
              "      <td>8-9 Yaş</td>\n",
              "      <td>4.412698</td>\n",
              "      <td>Bayan</td>\n",
              "      <td>0.057645</td>\n",
              "      <td>0.000978</td>\n",
              "      <td>328876</td>\n",
              "      <td>0.264478</td>\n",
              "    </tr>\n",
              "    <tr>\n",
              "      <th>3</th>\n",
              "      <td>NaN</td>\n",
              "      <td>29969</td>\n",
              "      <td>5893187</td>\n",
              "      <td>722342150</td>\n",
              "      <td>2021-08-01 01:07:16.583000+00:00</td>\n",
              "      <td>1</td>\n",
              "      <td>968</td>\n",
              "      <td>1108280452</td>\n",
              "      <td>19449310</td>\n",
              "      <td>59.99</td>\n",
              "      <td>50.99</td>\n",
              "      <td>4.700000</td>\n",
              "      <td>NaN</td>\n",
              "      <td>0.0</td>\n",
              "      <td>NaN</td>\n",
              "      <td>NaN</td>\n",
              "      <td>0</td>\n",
              "      <td>False</td>\n",
              "      <td>NaN</td>\n",
              "      <td>5047604</td>\n",
              "      <td>Kiremit Düğme Detaylı Crop Bluz TWOSS19EH0184</td>\n",
              "      <td>40</td>\n",
              "      <td>TRENDYOLMİLLA</td>\n",
              "      <td>4295.0</td>\n",
              "      <td>Kadın / Kız</td>\n",
              "      <td>590</td>\n",
              "      <td>Bluz</td>\n",
              "      <td>7011.0</td>\n",
              "      <td>Turuncu</td>\n",
              "      <td>Kiremit</td>\n",
              "      <td>BEDEN</td>\n",
              "      <td>36</td>\n",
              "      <td>4.291262</td>\n",
              "      <td>Bayan</td>\n",
              "      <td>0.127110</td>\n",
              "      <td>0.002828</td>\n",
              "      <td>3269293</td>\n",
              "      <td>0.000000</td>\n",
              "    </tr>\n",
              "    <tr>\n",
              "      <th>4</th>\n",
              "      <td>NaN</td>\n",
              "      <td>35107</td>\n",
              "      <td>93897418</td>\n",
              "      <td>723421057</td>\n",
              "      <td>2021-08-02 10:54:53.842000+00:00</td>\n",
              "      <td>1</td>\n",
              "      <td>968</td>\n",
              "      <td>1110143484</td>\n",
              "      <td>156456704</td>\n",
              "      <td>69.99</td>\n",
              "      <td>59.49</td>\n",
              "      <td>4.700000</td>\n",
              "      <td>NaN</td>\n",
              "      <td>0.0</td>\n",
              "      <td>Trendyolmilla&amp;Trendyol Man&amp;Trendyol Modest Yen...</td>\n",
              "      <td>15.0</td>\n",
              "      <td>0</td>\n",
              "      <td>False</td>\n",
              "      <td>NaN</td>\n",
              "      <td>5255654</td>\n",
              "      <td>Haki Kemer Detaylı Şort &amp; Bermuda TWOSS19IE0062</td>\n",
              "      <td>40</td>\n",
              "      <td>TRENDYOLMİLLA</td>\n",
              "      <td>4295.0</td>\n",
              "      <td>Kadın / Kız</td>\n",
              "      <td>530</td>\n",
              "      <td>Şort &amp; Bermuda</td>\n",
              "      <td>7015.0</td>\n",
              "      <td>Haki</td>\n",
              "      <td>Haki</td>\n",
              "      <td>BEDEN</td>\n",
              "      <td>42</td>\n",
              "      <td>4.425595</td>\n",
              "      <td>Bayan</td>\n",
              "      <td>0.127110</td>\n",
              "      <td>0.002828</td>\n",
              "      <td>3269293</td>\n",
              "      <td>0.000000</td>\n",
              "    </tr>\n",
              "  </tbody>\n",
              "</table>\n",
              "</div>"
            ],
            "text/plain": [
              "   expected  user_id  ...  total_claim  unresolvedclaim_percentage\n",
              "0       NaN    18115  ...      3269293                    0.000000\n",
              "1       NaN    27588  ...      3269293                    0.000000\n",
              "2       NaN    29165  ...       328876                    0.264478\n",
              "3       NaN    29969  ...      3269293                    0.000000\n",
              "4       NaN    35107  ...      3269293                    0.000000\n",
              "\n",
              "[5 rows x 38 columns]"
            ]
          },
          "metadata": {},
          "execution_count": 17
        }
      ]
    },
    {
      "cell_type": "code",
      "metadata": {
        "id": "4G7fN1msdGC8"
      },
      "source": [
        "df['AVG_spend'] = df['original_price'].groupby(df[\"user_id\"]).transform('mean') ## Added a column that shows average amount of money each user spend.\n",
        "df[\"parent_product_user\"] = df.user_id.map(str) + \"|\" + df.order_parent_id.map(str) + \"|\"+ df.product_content_id.map(str)\n",
        "df[\"count\"] = df.groupby([\"parent_product_user\"])[\"product_variant_id\"].transform(\"count\") # Added a column that shows how many units the user bought of different variants of the same product."
      ],
      "execution_count": null,
      "outputs": []
    },
    {
      "cell_type": "code",
      "metadata": {
        "id": "Toy6LdQMvwkS"
      },
      "source": [
        "del df[\"order_date\"]\n",
        "del df[\"user_id\"]\n",
        "del df[\"supplier_id\"]\n",
        "del df[\"order_line_item_id\"]\n",
        "del df[\"order_parent_id\"]\n",
        "del df[\"product_content_id\"]\n",
        "del df[\"product_variant_id\"]\n",
        "del df[\"coupon_id\"]\n",
        "del df[\"promotion_name\"]\n",
        "del df[\"product_id\"]\n",
        "del df[\"product_name\"]\n",
        "del df[\"brand_id\"]\n",
        "del df[\"brand_name\"] # Sonra bakılcak.\n",
        "del df[\"gender_id\"]\n",
        "del df[\"category_id\"]\n",
        "del df[\"category_name\"] # Sonra bakılcak.\n",
        "del df[\"color_id\"]\n",
        "del df[\"supplier_color_name\"] \n",
        "del df[\"attributet_name\"] # Sonra Bakılcak.\n",
        "del df[\"attribute_value\"]\n"
      ],
      "execution_count": null,
      "outputs": []
    },
    {
      "cell_type": "code",
      "metadata": {
        "id": "hMFeFhu_xuoR"
      },
      "source": [
        "df[\"ship_cost\"] = df[\"ship_cost\"].fillna(0)\n",
        "\n",
        "df[\"promotion_award_value\"] = df[\"promotion_award_value\"].fillna(0)\n",
        "\n",
        "df[\"rate\"] = df[\"rate\"].fillna(0)\n",
        "\n",
        "df[\"color_name\"] = df[\"color_name\"].fillna(\"yok\")\n",
        "\n",
        "df[\"unresolvedclaim_percentage\"] = df[\"unresolvedclaim_percentage\"].fillna(0)\n",
        "\n",
        "df[\"total_claim\"] = df[\"total_claim\"].fillna(0)\n",
        "\n",
        "df[\"defective_returnRate\"] = df[\"defective_returnRate\"].fillna(0)\n",
        "\n",
        "df[\"returnRate\"] = df[\"returnRate\"].fillna(0)\n",
        "\n"
      ],
      "execution_count": null,
      "outputs": []
    },
    {
      "cell_type": "code",
      "metadata": {
        "id": "beldzyykyO10"
      },
      "source": [
        "df = df.drop([\"is_returned\",\"expected\"],axis=1)\n"
      ],
      "execution_count": null,
      "outputs": []
    },
    {
      "cell_type": "code",
      "metadata": {
        "colab": {
          "base_uri": "https://localhost:8080/"
        },
        "id": "a1VNgtsOzyOZ",
        "outputId": "a6a99503-c892-4bbb-a4a0-7097c8765438"
      },
      "source": [
        "pip install category_encoders"
      ],
      "execution_count": null,
      "outputs": [
        {
          "output_type": "stream",
          "name": "stdout",
          "text": [
            "Collecting category_encoders\n",
            "  Downloading category_encoders-2.3.0-py2.py3-none-any.whl (82 kB)\n",
            "\u001b[?25l\r\u001b[K     |████                            | 10 kB 29.5 MB/s eta 0:00:01\r\u001b[K     |████████                        | 20 kB 33.1 MB/s eta 0:00:01\r\u001b[K     |████████████                    | 30 kB 14.4 MB/s eta 0:00:01\r\u001b[K     |████████████████                | 40 kB 10.6 MB/s eta 0:00:01\r\u001b[K     |████████████████████            | 51 kB 7.8 MB/s eta 0:00:01\r\u001b[K     |████████████████████████        | 61 kB 8.0 MB/s eta 0:00:01\r\u001b[K     |████████████████████████████    | 71 kB 7.1 MB/s eta 0:00:01\r\u001b[K     |███████████████████████████████▉| 81 kB 8.0 MB/s eta 0:00:01\r\u001b[K     |████████████████████████████████| 82 kB 484 kB/s \n",
            "\u001b[?25hRequirement already satisfied: patsy>=0.5.1 in /usr/local/lib/python3.7/dist-packages (from category_encoders) (0.5.2)\n",
            "Requirement already satisfied: scikit-learn>=0.20.0 in /usr/local/lib/python3.7/dist-packages (from category_encoders) (0.22.2.post1)\n",
            "Requirement already satisfied: scipy>=1.0.0 in /usr/local/lib/python3.7/dist-packages (from category_encoders) (1.4.1)\n",
            "Requirement already satisfied: pandas>=0.21.1 in /usr/local/lib/python3.7/dist-packages (from category_encoders) (1.1.5)\n",
            "Requirement already satisfied: statsmodels>=0.9.0 in /usr/local/lib/python3.7/dist-packages (from category_encoders) (0.10.2)\n",
            "Requirement already satisfied: numpy>=1.14.0 in /usr/local/lib/python3.7/dist-packages (from category_encoders) (1.19.5)\n",
            "Requirement already satisfied: python-dateutil>=2.7.3 in /usr/local/lib/python3.7/dist-packages (from pandas>=0.21.1->category_encoders) (2.8.2)\n",
            "Requirement already satisfied: pytz>=2017.2 in /usr/local/lib/python3.7/dist-packages (from pandas>=0.21.1->category_encoders) (2018.9)\n",
            "Requirement already satisfied: six in /usr/local/lib/python3.7/dist-packages (from patsy>=0.5.1->category_encoders) (1.15.0)\n",
            "Requirement already satisfied: joblib>=0.11 in /usr/local/lib/python3.7/dist-packages (from scikit-learn>=0.20.0->category_encoders) (1.0.1)\n",
            "Installing collected packages: category-encoders\n",
            "Successfully installed category-encoders-2.3.0\n"
          ]
        }
      ]
    },
    {
      "cell_type": "code",
      "metadata": {
        "colab": {
          "base_uri": "https://localhost:8080/"
        },
        "id": "FgVf03dCz1xF",
        "outputId": "6ab93e96-6652-4d7a-d4ec-4cc7c4d23822"
      },
      "source": [
        "import category_encoders as ce\n",
        "ohe = ce.OneHotEncoder(handle_unknown='value', use_cat_names=True)\n",
        "\n",
        "OH_cols_train = pd.DataFrame(ohe.fit_transform(df[[\"gender_name\", \"color_name\", \"gender\"]])) #One-Hot encoding applied to train dataset\n",
        "OH_cols_train.index = df.index\n",
        "df = df.drop(columns = [\"gender_name\", \"color_name\", \"gender\"]) #Dropping categorical columns\n",
        "df = pd.concat([df,OH_cols_train],axis = 1) # Assembling df with encoded columns\n"
      ],
      "execution_count": null,
      "outputs": [
        {
          "output_type": "stream",
          "name": "stderr",
          "text": [
            "/usr/local/lib/python3.7/dist-packages/statsmodels/tools/_testing.py:19: FutureWarning: pandas.util.testing is deprecated. Use the functions in the public API at pandas.testing instead.\n",
            "  import pandas.util.testing as tm\n"
          ]
        }
      ]
    },
    {
      "cell_type": "code",
      "metadata": {
        "id": "Vn3NStDHz6NQ"
      },
      "source": [
        "df[\"is_saved_card_trx\"] = df[\"is_saved_card_trx\"].astype(int)"
      ],
      "execution_count": null,
      "outputs": []
    },
    {
      "cell_type": "code",
      "metadata": {
        "id": "fNqwfSQO9keG"
      },
      "source": [
        "df[\"gender_name_Kadın\"] = np.zeros(np.shape(df.index))\n",
        "df[\"gender_name_Unknown\"] = np.zeros(np.shape(df.index))\n",
        "df[\"color_name_Altın\"] = np.zeros(np.shape(df.index))\n",
        "df[\"color_name_yok\"] = np.zeros(np.shape(df.index))\n",
        "df[\"color_name_Metalik\"] = np.zeros(np.shape(df.index))\n",
        "df = df[['is_elite_user', 'original_price', 'discounted_price', 'ship_cost',\n",
        "       'coupon_discount', 'promotion_award_value', 'is_wallet_trx',\n",
        "       'is_saved_card_trx', 'rate', 'returnRate', 'defective_returnRate',\n",
        "       'total_claim', 'unresolvedclaim_percentage', 'AVG_spend', 'count',\n",
        "       'gender_name_Erkek', 'gender_name_Kadın / Kız', 'gender_name_Unisex',\n",
        "       'gender_name_Kadın', 'gender_name_Unknown', 'color_name_Beyaz',\n",
        "       'color_name_Yeşil', 'color_name_Gri', 'color_name_Mor',\n",
        "       'color_name_Mavi', 'color_name_Haki', 'color_name_Siyah',\n",
        "       'color_name_Bej', 'color_name_Pembe', 'color_name_Kırmızı',\n",
        "       'color_name_Turuncu', 'color_name_Sarı', 'color_name_Kahverengi',\n",
        "       'color_name_Ekru', 'color_name_Lacivert', 'color_name_Bordo',\n",
        "       'color_name_Turkuaz', 'color_name_Gümüş', 'color_name_Metalik',\n",
        "       'color_name_Altın', 'color_name_yok', 'gender_Bayan', 'gender_Bay',\n",
        "       'gender_UNKNOWN', 'gender_kvkktalepsilindi']]"
      ],
      "execution_count": null,
      "outputs": []
    },
    {
      "cell_type": "code",
      "metadata": {
        "id": "f9lijLmn0TqH"
      },
      "source": [
        "import pickle\n",
        "# Load the Model back from file\n",
        "with open(\"LGBM_TUNED_2.pk1\", 'rb') as file:  \n",
        "    clf = pickle.load(file)\n",
        "\n"
      ],
      "execution_count": null,
      "outputs": []
    },
    {
      "cell_type": "code",
      "metadata": {
        "id": "pqDB0bDRSz1L"
      },
      "source": [
        "ypred = clf.predict(df)"
      ],
      "execution_count": null,
      "outputs": []
    },
    {
      "cell_type": "code",
      "metadata": {
        "id": "Tuooh28POP-G"
      },
      "source": [
        "test_data = pd.read_csv(r\"test_data.csv\")"
      ],
      "execution_count": null,
      "outputs": []
    },
    {
      "cell_type": "code",
      "metadata": {
        "colab": {
          "base_uri": "https://localhost:8080/",
          "height": 423
        },
        "id": "6_lMRNg-PYYQ",
        "outputId": "14827d7d-8e37-4bb1-8431-fc8cf1385c0d"
      },
      "source": [
        "test_data[\"expected\"] = ypred\n",
        "test_data"
      ],
      "execution_count": null,
      "outputs": [
        {
          "output_type": "execute_result",
          "data": {
            "text/html": [
              "<div>\n",
              "<style scoped>\n",
              "    .dataframe tbody tr th:only-of-type {\n",
              "        vertical-align: middle;\n",
              "    }\n",
              "\n",
              "    .dataframe tbody tr th {\n",
              "        vertical-align: top;\n",
              "    }\n",
              "\n",
              "    .dataframe thead th {\n",
              "        text-align: right;\n",
              "    }\n",
              "</style>\n",
              "<table border=\"1\" class=\"dataframe\">\n",
              "  <thead>\n",
              "    <tr style=\"text-align: right;\">\n",
              "      <th></th>\n",
              "      <th>id</th>\n",
              "      <th>expected</th>\n",
              "    </tr>\n",
              "  </thead>\n",
              "  <tbody>\n",
              "    <tr>\n",
              "      <th>0</th>\n",
              "      <td>18115|87073974|726348863</td>\n",
              "      <td>1.0</td>\n",
              "    </tr>\n",
              "    <tr>\n",
              "      <th>1</th>\n",
              "      <td>27588|118753298|723169934</td>\n",
              "      <td>1.0</td>\n",
              "    </tr>\n",
              "    <tr>\n",
              "      <th>2</th>\n",
              "      <td>29165|35699988|724122443</td>\n",
              "      <td>0.0</td>\n",
              "    </tr>\n",
              "    <tr>\n",
              "      <th>3</th>\n",
              "      <td>29969|5893187|722342150</td>\n",
              "      <td>1.0</td>\n",
              "    </tr>\n",
              "    <tr>\n",
              "      <th>4</th>\n",
              "      <td>35107|93897418|723421057</td>\n",
              "      <td>0.0</td>\n",
              "    </tr>\n",
              "    <tr>\n",
              "      <th>...</th>\n",
              "      <td>...</td>\n",
              "      <td>...</td>\n",
              "    </tr>\n",
              "    <tr>\n",
              "      <th>7466</th>\n",
              "      <td>71083899|100019570|728638514</td>\n",
              "      <td>0.0</td>\n",
              "    </tr>\n",
              "    <tr>\n",
              "      <th>7467</th>\n",
              "      <td>71106534|35624085|725372928</td>\n",
              "      <td>0.0</td>\n",
              "    </tr>\n",
              "    <tr>\n",
              "      <th>7468</th>\n",
              "      <td>71115350|94438742|725291348</td>\n",
              "      <td>0.0</td>\n",
              "    </tr>\n",
              "    <tr>\n",
              "      <th>7469</th>\n",
              "      <td>71115350|100017676|725291348</td>\n",
              "      <td>0.0</td>\n",
              "    </tr>\n",
              "    <tr>\n",
              "      <th>7470</th>\n",
              "      <td>71160557|87073974|726377172</td>\n",
              "      <td>1.0</td>\n",
              "    </tr>\n",
              "  </tbody>\n",
              "</table>\n",
              "<p>7471 rows × 2 columns</p>\n",
              "</div>"
            ],
            "text/plain": [
              "                                id  expected\n",
              "0         18115|87073974|726348863       1.0\n",
              "1        27588|118753298|723169934       1.0\n",
              "2         29165|35699988|724122443       0.0\n",
              "3          29969|5893187|722342150       1.0\n",
              "4         35107|93897418|723421057       0.0\n",
              "...                            ...       ...\n",
              "7466  71083899|100019570|728638514       0.0\n",
              "7467   71106534|35624085|725372928       0.0\n",
              "7468   71115350|94438742|725291348       0.0\n",
              "7469  71115350|100017676|725291348       0.0\n",
              "7470   71160557|87073974|726377172       1.0\n",
              "\n",
              "[7471 rows x 2 columns]"
            ]
          },
          "metadata": {},
          "execution_count": 31
        }
      ]
    },
    {
      "cell_type": "code",
      "metadata": {
        "id": "gXDRukzmvSPP"
      },
      "source": [
        "test_data[\"expected\"] = test_data[\"expected\"].astype(int)"
      ],
      "execution_count": null,
      "outputs": []
    },
    {
      "cell_type": "code",
      "metadata": {
        "id": "lN5dJkl1PZWq"
      },
      "source": [
        "test_data.set_index(\"id\").to_csv('submission_lgbm_F2.csv')"
      ],
      "execution_count": null,
      "outputs": []
    }
  ]
}